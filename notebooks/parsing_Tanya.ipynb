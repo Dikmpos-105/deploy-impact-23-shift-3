{
 "cells": [
  {
   "cell_type": "code",
   "execution_count": null,
   "metadata": {},
   "outputs": [],
   "source": [
    "!pip install lxml\n",
    "!pip install beautifulsoup4"
   ]
  },
  {
   "cell_type": "code",
   "execution_count": null,
   "metadata": {},
   "outputs": [],
   "source": [
    "import pandas as pd \n",
    "import numpy as np\n",
    "from bs4 import BeautifulSoup\n",
    "import re"
   ]
  },
  {
   "cell_type": "code",
   "execution_count": null,
   "metadata": {},
   "outputs": [],
   "source": [
    "def clean_from_html (s: str) -> str:\n",
    "    bs_result = BeautifulSoup(s, 'lxml').text\n",
    "    result = re.sub('\\n', ' ', bs_result)\n",
    "    return result"
   ]
  },
  {
   "cell_type": "code",
   "execution_count": null,
   "metadata": {},
   "outputs": [],
   "source": [
    "df = pd.read_csv(\"/Users/tanyagolubev/Projects/deploy-impact-23-shift-3/data/glassdore/glassdoor.csv\")"
   ]
  },
  {
   "cell_type": "code",
   "execution_count": null,
   "metadata": {},
   "outputs": [],
   "source": [
    "df.head(20).T"
   ]
  },
  {
   "cell_type": "code",
   "execution_count": null,
   "metadata": {},
   "outputs": [],
   "source": [
    "df.filter(\n",
    "    items = [\n",
    "    'header.jobTitle', \n",
    "    'header.employerName', \n",
    "    'header.location', \n",
    "    'job.description', \n",
    "    'job.jobTitleId', \n",
    "    'map.country',\n",
    "    'map.employerName',\n",
    "    'map.lat',\n",
    "    'map.lng',\n",
    "    'map.location',\n",
    "    'map.address',\n",
    "    'map.postalCode',\n",
    "    'overview.industry',\n",
    "    'overview.description',\n",
    "    'overview.mission',\n",
    "    'overview.website',\n",
    "        ]\n",
    ").T"
   ]
  },
  {
   "cell_type": "code",
   "execution_count": null,
   "metadata": {},
   "outputs": [],
   "source": [
    "tech_keywords = [\n",
    "    'computer',\n",
    "    'vision',\n",
    "    'developer',\n",
    "    'data',\n",
    "    'information',\n",
    "    'software',\n",
    "    'database',\n",
    "    'programming',\n",
    "    'ai',\n",
    "    'ml',\n",
    "    'application',\n",
    "    'frontend',\n",
    "    'backend'\n",
    "          ]\n",
    "\n",
    "senior_keywords = [\n",
    "    'senior',\n",
    "    'lead',\n",
    "    'head',\n",
    "    'partner'\n",
    "]\n"
   ]
  },
  {
   "cell_type": "code",
   "execution_count": null,
   "metadata": {},
   "outputs": [],
   "source": [
    "df['header.jobTitle'] = df['header.jobTitle'].map(lambda x: x.lower())\n",
    "df['entry_IT_job'] = df['header.jobTitle'].str.contains('|'.join(tech_keywords))\n",
    "df['entry_IT_job'] = ~df['header.jobTitle'].str.contains('|'.join(senior_keywords))\n",
    "df['Swiss_based'] = df[\"map.country\"].map(lambda x: x==\"Switzerland\" or x==\"CH\")\n",
    "df_Swiss_IT  = df.loc[(df['Swiss_based'] ==True) & (df['entry_IT_job'] == True)]\n"
   ]
  },
  {
   "cell_type": "code",
   "execution_count": null,
   "metadata": {},
   "outputs": [],
   "source": [
    "df_Swiss_IT['job.description_cleaned'] = df_Swiss_IT['job.description'].map(lambda x: clean_from_html(str(x)))"
   ]
  },
  {
   "cell_type": "code",
   "execution_count": null,
   "metadata": {},
   "outputs": [],
   "source": [
    "df_Swiss_IT['job.description']"
   ]
  },
  {
   "attachments": {},
   "cell_type": "markdown",
   "metadata": {},
   "source": [
    "df_Swiss_IT['job.description']"
   ]
  },
  {
   "cell_type": "code",
   "execution_count": null,
   "metadata": {},
   "outputs": [],
   "source": []
  }
 ],
 "metadata": {
  "kernelspec": {
   "display_name": "Python 3",
   "language": "python",
   "name": "python3"
  },
  "language_info": {
   "codemirror_mode": {
    "name": "ipython",
    "version": 3
   },
   "file_extension": ".py",
   "mimetype": "text/x-python",
   "name": "python",
   "nbconvert_exporter": "python",
   "pygments_lexer": "ipython3",
   "version": "3.9.16"
  },
  "orig_nbformat": 4
 },
 "nbformat": 4,
 "nbformat_minor": 2
}
