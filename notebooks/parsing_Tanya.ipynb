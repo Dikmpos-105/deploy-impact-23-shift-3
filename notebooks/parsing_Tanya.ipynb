{
 "cells": [
  {
   "cell_type": "code",
   "execution_count": null,
   "metadata": {},
   "outputs": [],
   "source": [
    "!pip install pyyaml"
   ]
  },
  {
   "cell_type": "code",
   "execution_count": null,
   "metadata": {},
   "outputs": [],
   "source": [
    "import pandas as pd \n",
    "import numpy as np\n",
    "from bs4 import BeautifulSoup\n",
    "import re\n",
    "import langid\n",
    "import yaml\n",
    "from typing import List\n",
    "\n",
    "import spacy\n",
    "from spacy.matcher import PhraseMatcher\n",
    "# load default skills data base\n",
    "from skillNer.general_params import SKILL_DB\n",
    "# import skill extractor\n",
    "from skillNer.skill_extractor_class import SkillExtractor"
   ]
  },
  {
   "cell_type": "code",
   "execution_count": null,
   "metadata": {},
   "outputs": [],
   "source": [
    "def clean_from_html (s: str) -> str:\n",
    "    bs_result = BeautifulSoup(s, 'lxml').text\n",
    "    result = re.sub('\\n', ' ', bs_result)\n",
    "    return result\n",
    "\n",
    "def if_en(s: str) -> bool:\n",
    "    return langid.classify(str(s))[0] == 'en'\n",
    "\n",
    "def extract_skills (s: str) -> List[str]:\n",
    "    nlp = spacy.load(\"en_core_web_lg\")\n",
    "    # init skill extractor\n",
    "    skill_extractor = SkillExtractor(nlp, SKILL_DB, PhraseMatcher)\n",
    "    annotations = skill_extractor.annotate(s)\n",
    "    skills = []\n",
    "    matches = annotations['results']['full_matches']+annotations['results']['ngram_scored']\n",
    "    for di in matches:\n",
    "        skills.append(di['doc_node_value'])\n",
    "    return skills\n",
    "    "
   ]
  },
  {
   "cell_type": "code",
   "execution_count": null,
   "metadata": {},
   "outputs": [],
   "source": [
    "with open('job_parsing.yaml') as f:\n",
    "    conf_dict = yaml.safe_load(f)"
   ]
  },
  {
   "cell_type": "code",
   "execution_count": null,
   "metadata": {},
   "outputs": [],
   "source": [
    "df= pd.read_csv(conf_dict['FILE_PATH'], usecols = conf_dict['COLS'].keys())"
   ]
  },
  {
   "cell_type": "code",
   "execution_count": null,
   "metadata": {},
   "outputs": [],
   "source": [
    "df['header.jobTitle'] = df['header.jobTitle'].map(lambda x: x.lower())\n",
    "df['entry_IT_job'] = df['header.jobTitle'].str.contains('|'.join(conf_dict['TECH_KEYWORDS']))\n",
    "df['entry_IT_job'] = ~df['header.jobTitle'].str.contains('|'.join(conf_dict['SENIOR_KEYWORDS']))\n",
    "df['Swiss_based'] = df[\"map.country\"].map(lambda x: x in conf_dict['SWISS_LOCATION'])\n",
    "\n",
    "df_Swiss_IT  = df.loc[(df['Swiss_based'] ==True) & (df['entry_IT_job'] == True)]\n",
    "df_Swiss_IT['job_description'] = df_Swiss_IT['job.description'].map(lambda x: clean_from_html(str(x)))\n",
    "df_Swiss_IT.drop(columns=['job.description', 'entry_IT_job', 'Swiss_based'], inplace = True)\n",
    "df_Swiss_IT['english'] = df_Swiss_IT[\"job_description\"].map(lambda x: if_en(str(x)))\n",
    "df_Swiss_IT_en = df_Swiss_IT.loc[df_Swiss_IT['english'] ==True]\n",
    "df_Swiss_IT_en.drop(columns=['english'], inplace = True)\n",
    "#df_Swiss_IT_en['skills'] = df_Swiss_IT[\"job.description_cleaned\"].map(lambda x: extract_skills(str(x)))\n",
    "#df_Swiss_IT_en.reset_index(drop = True, inplace = True)\n"
   ]
  },
  {
   "cell_type": "code",
   "execution_count": null,
   "metadata": {},
   "outputs": [],
   "source": [
    "df_Swiss_IT_en_200 = df_Swiss_IT_en.iloc[:200,:]"
   ]
  },
  {
   "cell_type": "code",
   "execution_count": null,
   "metadata": {},
   "outputs": [],
   "source": [
    "df_Swiss_IT_en_200.columns"
   ]
  },
  {
   "cell_type": "code",
   "execution_count": null,
   "metadata": {},
   "outputs": [],
   "source": [
    "df_Swiss_IT_en_200['skills'] = df_Swiss_IT_en_200[\"job_description\"].map(lambda x: extract_skills(str(x)))"
   ]
  },
  {
   "cell_type": "code",
   "execution_count": null,
   "metadata": {},
   "outputs": [],
   "source": [
    "df_Swiss_IT_en_200.rename(mapper = conf_dict['COLS'], axis = 1, inplace = True)"
   ]
  },
  {
   "cell_type": "code",
   "execution_count": null,
   "metadata": {},
   "outputs": [],
   "source": [
    "df_Swiss_IT_en_200.to_csv('IT_entry_swiss_jobs_200.csv')"
   ]
  },
  {
   "cell_type": "code",
   "execution_count": null,
   "metadata": {},
   "outputs": [],
   "source": []
  }
 ],
 "metadata": {
  "kernelspec": {
   "display_name": "Python 3",
   "language": "python",
   "name": "python3"
  },
  "language_info": {
   "codemirror_mode": {
    "name": "ipython",
    "version": 3
   },
   "file_extension": ".py",
   "mimetype": "text/x-python",
   "name": "python",
   "nbconvert_exporter": "python",
   "pygments_lexer": "ipython3",
   "version": "3.9.16"
  },
  "orig_nbformat": 4
 },
 "nbformat": 4,
 "nbformat_minor": 2
}
